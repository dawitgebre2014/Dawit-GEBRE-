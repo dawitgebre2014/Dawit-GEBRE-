{
 "cells": [
  {
   "cell_type": "code",
   "execution_count": null,
   "metadata": {},
   "outputs": [],
   "source": [
    "#Get employee information \n",
    "\n",
    "id_e =  input(\"enter the id of the employee :\" )\n",
    "name_e = str(input(\"enter the name of the employee\"))\n",
    "\n",
    "pay_rate = int(input(\"enter the paye rate of the employee\"))\n",
    "\n",
    "work_hour = int(input(\"enter the hours of worker of the employee\"))"
   ]
  },
  {
   "cell_type": "code",
   "execution_count": null,
   "metadata": {},
   "outputs": [],
   "source": [
    "#print oput the information given above \n",
    "\n",
    "print('Name of the employee is :', name_e)\n",
    "\n",
    "print('Pay Rtae of an employee is :', pay_rate)\n",
    "\n",
    "print('Id of the employee is :', id_e)\n",
    "\n",
    "print('Working hours of the an employee is :', work_hour)"
   ]
  },
  {
   "cell_type": "code",
   "execution_count": null,
   "metadata": {},
   "outputs": [],
   "source": [
    "#compute the base salalry \n",
    "base_salary = pay_rate * 40"
   ]
  },
  {
   "cell_type": "code",
   "execution_count": null,
   "metadata": {},
   "outputs": [],
   "source": [
    "\n",
    "#check the condition and do the required computation\n",
    "\n",
    "if work_hour > 40:\n",
    "    Gro_salary = base salary + (work_hour - 40) * 1.5\n",
    "print(' The salalry the perosn with id :' + id_e +' ' + ' and name' +' '+ \n",
    "      name_e + ' ' 'is '+ Gro_salary)\n",
    "else :\n",
    "    Gro_salary = pay_rate * work_hour\n",
    "    print(' The salalry the perosn with id :' + id_e +' ' + ' and name' +' '+\n",
    "      name_e + ' ' 'is '+ Gro_salary)"
   ]
  }
 ],
 "metadata": {
  "kernelspec": {
   "display_name": "Python 3",
   "language": "python",
   "name": "python3"
  },
  "language_info": {
   "codemirror_mode": {
    "name": "ipython",
    "version": 3
   },
   "file_extension": ".py",
   "mimetype": "text/x-python",
   "name": "python",
   "nbconvert_exporter": "python",
   "pygments_lexer": "ipython3",
   "version": "3.7.3"
  }
 },
 "nbformat": 4,
 "nbformat_minor": 2
}

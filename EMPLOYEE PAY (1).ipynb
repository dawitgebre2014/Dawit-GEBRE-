{
 "cells": [
  {
   "cell_type": "markdown",
   "metadata": {},
   "source": [
    "### WRITE A PROGRAM : EMPLOYEE PAY\n",
    "Name : Dawit H. GEBRE"
   ]
  },
  {
   "cell_type": "markdown",
   "metadata": {},
   "source": [
    "#### By making use of List, structer the employee's data "
   ]
  },
  {
   "cell_type": "code",
   "execution_count": 91,
   "metadata": {},
   "outputs": [],
   "source": [
    "row_1 = ['001','Mary,',15,40]\n",
    "row_2 = ['002','Jhon',22,25]\n",
    "row_3 = ['003','Bob',35,4]\n",
    "row_4 = ['004','Mel',43,62]\n",
    "row_5 = ['005','Jen',17,33]\n",
    "row_6 = ['006','Sue',29,45]\n",
    "row_7 = ['007','Ken',40,36]\n",
    "row_8 = ['008','Dave',20,17]\n",
    "row_9 = ['009','Beth',37,37]\n",
    "row_10 = ['010','Ray',16.5,80]"
   ]
  },
  {
   "cell_type": "markdown",
   "metadata": {},
   "source": [
    "#### Make a nested List "
   ]
  },
  {
   "cell_type": "code",
   "execution_count": 105,
   "metadata": {},
   "outputs": [],
   "source": [
    "data_set = [row_1,row_2,row_3,row_4,row_5,row_6,row_7,row_8,row_9,row_10]"
   ]
  },
  {
   "cell_type": "markdown",
   "metadata": {},
   "source": [
    "#### Creat a function with a defult argument that computes the pay of an employee "
   ]
  },
  {
   "cell_type": "code",
   "execution_count": 94,
   "metadata": {},
   "outputs": [],
   "source": [
    "def compute_pay(payrate,hourwork,idperson,name):\n",
    "     \n",
    "        #check the condition and do the required computation\n",
    "\n",
    "        if hourwork > 40:\n",
    "            \n",
    "            #compute the base salalry\n",
    "            base_salary =  payrate* 40\n",
    "            print(\"The person's base salary for 40 working hours is :\\n\", base_salary)\n",
    "            \n",
    "            Gro_salary = base_salary + (hourwork - 40) * 1.5\n",
    "            print('The Gross salalry the perosn with id :' + str(idperson) +' ' + ' and name' +' '+ \n",
    "                str(name) + ' ' 'is '+ str(Gro_salary))\n",
    "        else:\n",
    "            Gro_salary = payrate * hourwork\n",
    "            print('The Gross salalry the perosn with id :' + str(idperson) +' ' + ' and name' +' '+\n",
    "              str(name) + ' ' 'is '+ str(Gro_salary))"
   ]
  },
  {
   "cell_type": "markdown",
   "metadata": {},
   "source": [
    "#### Set a loop which iterate through the data set and extracts some items "
   ]
  },
  {
   "cell_type": "code",
   "execution_count": null,
   "metadata": {},
   "outputs": [],
   "source": [
    "for row in data_set:\n",
    "    payrate = row[-2]\n",
    "    hourwork = row[-1] \n",
    "    idperson = row[0]\n",
    "    name     = row[1]\n",
    "    print(\"\\n\")\n",
    "    print(\"Payrate,hourwork:\" , (payrate , hourwork))\n",
    "    compute_pay(payrate,hourwork,idperson,name)   "
   ]
  }
 ],
 "metadata": {
  "kernelspec": {
   "display_name": "Python 3",
   "language": "python",
   "name": "python3"
  },
  "language_info": {
   "codemirror_mode": {
    "name": "ipython",
    "version": 3
   },
   "file_extension": ".py",
   "mimetype": "text/x-python",
   "name": "python",
   "nbconvert_exporter": "python",
   "pygments_lexer": "ipython3",
   "version": "3.7.3"
  }
 },
 "nbformat": 4,
 "nbformat_minor": 2
}
